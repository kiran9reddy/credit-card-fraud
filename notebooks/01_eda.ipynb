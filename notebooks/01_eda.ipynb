{
 "cells": [
  {
   "cell_type": "code",
   "execution_count": null,
   "id": "dbbd5c3f",
   "metadata": {},
   "outputs": [],
   "source": [
    "# import pandas as pd\n",
    "# import matplotlib.pyplot as plt\n",
    "# import seaborn as sns\n",
    "\n",
    "# df = pd.read_csv(\"../data/raw/creditcard.csv\")\n",
    "# print(df.shape)\n",
    "# print(df['Class'].value_counts())\n",
    "\n",
    "# sns.countplot(x=\"Class\", data=df)\n",
    "# plt.title(\"Fraud vs Normal\")\n",
    "# plt.show()\n",
    "\n",
    "# sns.histplot(df['Amount'], bins=50)\n",
    "# plt.title(\"Transaction Amount Distribution\")\n",
    "# plt.show()\n",
    "\n",
    "\n",
    "# Credit Card Fraud Detection - EDA\n",
    "# Notebook 01_eda.ipynb\n",
    "\n",
    "import pandas as pd\n",
    "import matplotlib.pyplot as plt\n",
    "import seaborn as sns\n",
    "\n",
    "# Load processed data\n",
    "df = pd.read_csv(\"data/processed/processed.csv\")\n",
    "\n",
    "# Quick overview\n",
    "print(\"Shape:\", df.shape)\n",
    "print(df.head())\n",
    "print(df.info())\n",
    "print(df.describe())\n",
    "\n",
    "# Check class imbalance\n",
    "sns.countplot(x='Class', data=df)\n",
    "plt.title(\"Class distribution\")\n",
    "plt.show()\n",
    "\n",
    "# Correlation heatmap\n",
    "plt.figure(figsize=(12,10))\n",
    "sns.heatmap(df.corr(), cmap='coolwarm', center=0)\n",
    "plt.title(\"Feature Correlation\")\n",
    "plt.show()\n",
    "\n",
    "# Plot Amount distribution\n",
    "sns.histplot(df['Amount'], bins=50, kde=True)\n",
    "plt.title(\"Transaction Amount Distribution\")\n",
    "plt.show()\n"
   ]
  }
 ],
 "metadata": {
  "language_info": {
   "name": "python"
  }
 },
 "nbformat": 4,
 "nbformat_minor": 5
}
