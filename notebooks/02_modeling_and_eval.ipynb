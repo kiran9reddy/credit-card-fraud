{
 "cells": [
  {
   "cell_type": "code",
   "execution_count": null,
   "id": "06d5c1e7",
   "metadata": {},
   "outputs": [],
   "source": [
    "# from src.features import generate_features, save_Xy\n",
    "# from src.train import train_model\n",
    "\n",
    "# df = pd.read_csv(\"../data/processed/processed.csv\")\n",
    "# df = generate_features(df)\n",
    "# save_Xy(df)\n",
    "\n",
    "# train_model()\n",
    "\n",
    "\n",
    "# Credit Card Fraud Detection - Modeling & Evaluation\n",
    "# Notebook 02_modeling_and_eval.ipynb\n",
    "\n",
    "import pandas as pd\n",
    "from sklearn.model_selection import train_test_split\n",
    "from sklearn.preprocessing import StandardScaler\n",
    "from sklearn.linear_model import LogisticRegression\n",
    "from sklearn.metrics import classification_report, roc_auc_score\n",
    "\n",
    "# Load features\n",
    "X = pd.read_csv(\"data/processed/X.csv\")\n",
    "y = pd.read_csv(\"data/processed/y.csv\")\n",
    "\n",
    "# Split dataset\n",
    "X_train, X_test, y_train, y_test = train_test_split(\n",
    "    X, y, test_size=0.2, stratify=y, random_state=42\n",
    ")\n",
    "\n",
    "# Scale features\n",
    "scaler = StandardScaler()\n",
    "X_train_scaled = scaler.fit_transform(X_train)\n",
    "X_test_scaled = scaler.transform(X_test)\n",
    "\n",
    "# Train Logistic Regression\n",
    "model = LogisticRegression(max_iter=1000, class_weight=\"balanced\")\n",
    "model.fit(X_train_scaled, y_train)\n",
    "\n",
    "# Predict\n",
    "y_pred = model.predict(X_test_scaled)\n",
    "y_prob = model.predict_proba(X_test_scaled)[:,1]\n",
    "\n",
    "# Evaluation\n",
    "print(\"Classification Report:\")\n",
    "print(classification_report(y_test, y_pred))\n",
    "print(\"ROC-AUC Score:\", roc_auc_score(y_test, y_prob))\n"
   ]
  }
 ],
 "metadata": {
  "language_info": {
   "name": "python"
  }
 },
 "nbformat": 4,
 "nbformat_minor": 5
}
