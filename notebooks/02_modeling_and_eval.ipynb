{
 "cells": [
  {
   "cell_type": "code",
   "execution_count": null,
   "id": "06d5c1e7",
   "metadata": {},
   "outputs": [],
   "source": [
    "from src.features import generate_features, save_Xy\n",
    "from src.train import train_model\n",
    "\n",
    "df = pd.read_csv(\"../data/processed/processed.csv\")\n",
    "df = generate_features(df)\n",
    "save_Xy(df)\n",
    "\n",
    "train_model()\n"
   ]
  }
 ],
 "metadata": {
  "language_info": {
   "name": "python"
  }
 },
 "nbformat": 4,
 "nbformat_minor": 5
}
